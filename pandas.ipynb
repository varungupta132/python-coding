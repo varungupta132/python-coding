{
 "cells": [
  {
   "cell_type": "code",
   "execution_count": 3,
   "metadata": {},
   "outputs": [
    {
     "name": "stdout",
     "output_type": "stream",
     "text": [
      "a      10\n",
      "b      12\n",
      "c      11\n",
      "d    True\n",
      "e      15\n",
      "dtype: object\n"
     ]
    }
   ],
   "source": [
    "# pandas : data visualization tool \n",
    "import pandas as pd\n",
    "series = pd.Series([10, 12, 11, True, 15], index=list('abcde'))\n",
    "print(series)"
   ]
  },
  {
   "cell_type": "code",
   "execution_count": 4,
   "metadata": {},
   "outputs": [
    {
     "name": "stdout",
     "output_type": "stream",
     "text": [
      "a   NaN\n",
      "b   NaN\n",
      "c   NaN\n",
      "d   NaN\n",
      "dtype: float64\n"
     ]
    }
   ],
   "source": [
    "import pandas as pd\n",
    "series = pd.Series(index=list('abcd'))\n",
    "print(series)"
   ]
  },
  {
   "cell_type": "code",
   "execution_count": 5,
   "metadata": {},
   "outputs": [
    {
     "name": "stdout",
     "output_type": "stream",
     "text": [
      "          0   1     2\n",
      "0      ravi  10   NaN\n",
      "1  subhansh  18  89.0\n",
      "2     saket   8   NaN\n",
      "2\n"
     ]
    }
   ],
   "source": [
    "import numpy as np\n",
    "df = pd.DataFrame([('ravi', 10), ('subhansh', 18,89), ('saket', 8)])\n",
    "\n",
    "print(df)\n",
    "\n",
    "print(df.ndim)"
   ]
  },
  {
   "cell_type": "code",
   "execution_count": 6,
   "metadata": {},
   "outputs": [
    {
     "name": "stdout",
     "output_type": "stream",
     "text": [
      "          0   1     2\n",
      "0      ravi  10   NaN\n",
      "1  subhansh  18  89.0\n",
      "2     saket   8   NaN\n",
      "2\n"
     ]
    }
   ],
   "source": [
    "\n",
    "import numpy as np\n",
    "df = pd.DataFrame([('ravi', 10), ('subhansh', 18,89), ('saket', 8)])\n",
    "\n",
    "print(df)\n",
    "7\n",
    "565465854565465356565564515\n",
    "\"gfyg\"\n",
    "print(df.ndim)"
   ]
  },
  {
   "cell_type": "code",
   "execution_count": 7,
   "metadata": {},
   "outputs": [
    {
     "name": "stdout",
     "output_type": "stream",
     "text": [
      "Defaulting to user installation because normal site-packages is not writeable\n",
      "Requirement already satisfied: numpy in c:\\users\\gupta\\appdata\\local\\packages\\pythonsoftwarefoundation.python.3.12_qbz5n2kfra8p0\\localcache\\local-packages\\python312\\site-packages (1.26.4)\n",
      "Note: you may need to restart the kernel to use updated packages.\n"
     ]
    }
   ],
   "source": [
    "pip install numpy"
   ]
  },
  {
   "cell_type": "code",
   "execution_count": 8,
   "metadata": {},
   "outputs": [
    {
     "name": "stdout",
     "output_type": "stream",
     "text": [
      "    Rank  Peak                         Film  Year               Director  \\\n",
      "0      1     1                       Dangal  2016          Nitesh Tiwari   \n",
      "1      2     1  Baahubali 2: The Conclusion  2017        S. S. Rajamouli   \n",
      "2      3     3            Bajrangi Bhaijaan  2015             Kabir Khan   \n",
      "3      4     3             Secret Superstar  2017         Advait Chandan   \n",
      "4      5     1                           PK  2014        Rajkumar Hirani   \n",
      "5      6     5                            2  2018              S.Shankar   \n",
      "6      7     2     Baahubali: The Beginning  2015        S. S. Rajamouli   \n",
      "7      8     4                       Sultan  2016        Ali Abbas Zafar   \n",
      "8      9     8                        Sanju  2018        Rajkumar Hirani   \n",
      "9     10     7                    Padmaavat  2018  Sanjay Leela Bhansali   \n",
      "10    11     8              Tiger Zinda Hai  2017        Ali Abbas Zafar   \n",
      "11    12     1                      Dhoom 3  2013  Vijay Krishna Acharya   \n",
      "12    13     9                          War  2019        Siddharth Anand   \n",
      "13    14     1                     3 Idiots  2009        Rajkumar Hirani   \n",
      "14    15    14                    Andhadhun  2018        Sriram Raghavan   \n",
      "15    16    16                        Saaho  2019                Sujeeth   \n",
      "16    17     6         Prem Ratan Dhan Payo  2015     Sooraj R. Barjatya   \n",
      "17    18     2              Chennai Express  2013           Rohit Shetty   \n",
      "18    19     4                         Kick  2014       Sajid Nadiadwala   \n",
      "19    20    17                       Simmba  2018           Rohit Shetty   \n",
      "20    21     5               Happy New Year  2014             Farah Khan   \n",
      "21    22     8                     Krrish 3  2013          Rakesh Roshan   \n",
      "22    23    10                      Dilwale  2015           Rohit Shetty   \n",
      "23    24    21                  Kabir Singh  2019          Sandeep Vanga   \n",
      "24    25    25                      Tanhaji  2020                Om Raut   \n",
      "\n",
      "                                             Producer Language  \\\n",
      "0   Aamir Khan Productions  UTV Motion Pictures  W...    Hindi   \n",
      "1                                    Arka Media Works   Telugu   \n",
      "2   Salman Khan Films  Kabir Khan Films  Eros Inte...    Hindi   \n",
      "3                              Aamir Khan Productions    Hindi   \n",
      "4           Vinod Chopra Films  Rajkumar Hirani Films    Hindi   \n",
      "5                                    Lyca Productions    Tamil   \n",
      "6                                    Arka Media Works   Telugu   \n",
      "7                                      Yash Raj Films    Hindi   \n",
      "8             Rajkumar Hirani FilmsVinod Chopra Films    Hindi   \n",
      "9      Bhansali Productions Viacom 18 Motion Pictures    Hindi   \n",
      "10                                     Yash Raj Films    Hindi   \n",
      "11                                     Yash Raj Films    Hindi   \n",
      "12                                     Yash Raj Films    Hindi   \n",
      "13                                 Vinod Chopra Films    Hindi   \n",
      "14        Viacom 18 Motion Pictures Matchbox Pictures    Hindi   \n",
      "15                             UV Creations  T-Series   Telugu   \n",
      "16              Fox Star Studios  Rajshri Productions    Hindi   \n",
      "17                         Red Chillies Entertainment    Hindi   \n",
      "18                                Nadiadwala Grandson    Hindi   \n",
      "19         Reliance Entertainment  Dharma Productions    Hindi   \n",
      "20                         Red Chillies Entertainment    Hindi   \n",
      "21                     Filmkraft Productions Pvt. Ltd    Hindi   \n",
      "22  Red Chillies Entertainment Rohit Shetty Produc...    Hindi   \n",
      "23                            Cine1 Studios  T-Series    Hindi   \n",
      "24                          Ajay Devgn FFilmsT-Series    Hindi   \n",
      "\n",
      "    Worldwide_Gross_INR(Crore)  Worldwide_Gross_USD(Million)  \n",
      "0                      2024.00                        311.00  \n",
      "1                      1810.00                        278.00  \n",
      "2                       969.06                        150.00  \n",
      "3                       966.86                        154.00  \n",
      "4                       832.00                        120.00  \n",
      "5                       800.00                        123.00  \n",
      "6                       650.00                        101.00  \n",
      "7                       623.33                         96.00  \n",
      "8                       586.85                         90.12  \n",
      "9                       585.00                         90.00  \n",
      "10                      565.10                         87.32  \n",
      "11                      556.00                        101.00  \n",
      "12                      475.50                         67.00  \n",
      "13                      460.00                         88.00  \n",
      "14                      456.89                         64.00  \n",
      "15                      433.06                         61.00  \n",
      "16                      432.00                         67.00  \n",
      "17                      423.00                         72.19  \n",
      "18                      402.00                         66.00  \n",
      "19                      400.00                         61.00  \n",
      "20                      397.21                         65.08  \n",
      "21                      393.37                         61.00  \n",
      "22                      376.85                         58.00  \n",
      "23                      367.68                         56.00  \n",
      "24                      366.36                         56.00  \n"
     ]
    }
   ],
   "source": [
    "movies = pd.read_csv(r\"C:\\Users\\gupta\\OneDrive\\Bollywood_movies.csv\")\n",
    "print(movies)"
   ]
  },
  {
   "cell_type": "code",
   "execution_count": 9,
   "metadata": {},
   "outputs": [
    {
     "name": "stdout",
     "output_type": "stream",
     "text": [
      "0\n",
      "1\n",
      "2\n"
     ]
    }
   ],
   "source": [
    "df.index\n",
    "for i in df.index:\n",
    "    print(df.index[i])"
   ]
  },
  {
   "cell_type": "code",
   "execution_count": 10,
   "metadata": {},
   "outputs": [
    {
     "name": "stdout",
     "output_type": "stream",
     "text": [
      "                           Film               Director\n",
      "0                        Dangal          Nitesh Tiwari\n",
      "1   Baahubali 2: The Conclusion        S. S. Rajamouli\n",
      "2             Bajrangi Bhaijaan             Kabir Khan\n",
      "3              Secret Superstar         Advait Chandan\n",
      "4                            PK        Rajkumar Hirani\n",
      "5                             2              S.Shankar\n",
      "6      Baahubali: The Beginning        S. S. Rajamouli\n",
      "7                        Sultan        Ali Abbas Zafar\n",
      "8                         Sanju        Rajkumar Hirani\n",
      "9                     Padmaavat  Sanjay Leela Bhansali\n",
      "10              Tiger Zinda Hai        Ali Abbas Zafar\n",
      "11                      Dhoom 3  Vijay Krishna Acharya\n",
      "12                          War        Siddharth Anand\n",
      "13                     3 Idiots        Rajkumar Hirani\n",
      "14                    Andhadhun        Sriram Raghavan\n",
      "15                        Saaho                Sujeeth\n",
      "16         Prem Ratan Dhan Payo     Sooraj R. Barjatya\n",
      "17              Chennai Express           Rohit Shetty\n",
      "18                         Kick       Sajid Nadiadwala\n",
      "19                       Simmba           Rohit Shetty\n",
      "20               Happy New Year             Farah Khan\n",
      "21                     Krrish 3          Rakesh Roshan\n",
      "22                      Dilwale           Rohit Shetty\n",
      "23                  Kabir Singh          Sandeep Vanga\n",
      "24                      Tanhaji                Om Raut <class 'pandas.core.frame.DataFrame'>\n"
     ]
    }
   ],
   "source": [
    "data = movies[['Film', 'Director']]\n",
    "print(data, type(data))"
   ]
  },
  {
   "cell_type": "code",
   "execution_count": 11,
   "metadata": {},
   "outputs": [
    {
     "data": {
      "text/html": [
       "<div>\n",
       "<style scoped>\n",
       "    .dataframe tbody tr th:only-of-type {\n",
       "        vertical-align: middle;\n",
       "    }\n",
       "\n",
       "    .dataframe tbody tr th {\n",
       "        vertical-align: top;\n",
       "    }\n",
       "\n",
       "    .dataframe thead th {\n",
       "        text-align: right;\n",
       "    }\n",
       "</style>\n",
       "<table border=\"1\" class=\"dataframe\">\n",
       "  <thead>\n",
       "    <tr style=\"text-align: right;\">\n",
       "      <th></th>\n",
       "      <th>Film</th>\n",
       "      <th>Year</th>\n",
       "    </tr>\n",
       "  </thead>\n",
       "  <tbody>\n",
       "    <tr>\n",
       "      <th>0</th>\n",
       "      <td>Dangal</td>\n",
       "      <td>2016</td>\n",
       "    </tr>\n",
       "    <tr>\n",
       "      <th>1</th>\n",
       "      <td>Baahubali 2: The Conclusion</td>\n",
       "      <td>2017</td>\n",
       "    </tr>\n",
       "    <tr>\n",
       "      <th>2</th>\n",
       "      <td>Bajrangi Bhaijaan</td>\n",
       "      <td>2015</td>\n",
       "    </tr>\n",
       "    <tr>\n",
       "      <th>3</th>\n",
       "      <td>Secret Superstar</td>\n",
       "      <td>2017</td>\n",
       "    </tr>\n",
       "    <tr>\n",
       "      <th>4</th>\n",
       "      <td>PK</td>\n",
       "      <td>2014</td>\n",
       "    </tr>\n",
       "    <tr>\n",
       "      <th>5</th>\n",
       "      <td>2</td>\n",
       "      <td>2018</td>\n",
       "    </tr>\n",
       "    <tr>\n",
       "      <th>6</th>\n",
       "      <td>Baahubali: The Beginning</td>\n",
       "      <td>2015</td>\n",
       "    </tr>\n",
       "    <tr>\n",
       "      <th>7</th>\n",
       "      <td>Sultan</td>\n",
       "      <td>2016</td>\n",
       "    </tr>\n",
       "    <tr>\n",
       "      <th>8</th>\n",
       "      <td>Sanju</td>\n",
       "      <td>2018</td>\n",
       "    </tr>\n",
       "    <tr>\n",
       "      <th>9</th>\n",
       "      <td>Padmaavat</td>\n",
       "      <td>2018</td>\n",
       "    </tr>\n",
       "    <tr>\n",
       "      <th>10</th>\n",
       "      <td>Tiger Zinda Hai</td>\n",
       "      <td>2017</td>\n",
       "    </tr>\n",
       "    <tr>\n",
       "      <th>11</th>\n",
       "      <td>Dhoom 3</td>\n",
       "      <td>2013</td>\n",
       "    </tr>\n",
       "    <tr>\n",
       "      <th>12</th>\n",
       "      <td>War</td>\n",
       "      <td>2019</td>\n",
       "    </tr>\n",
       "    <tr>\n",
       "      <th>13</th>\n",
       "      <td>3 Idiots</td>\n",
       "      <td>2009</td>\n",
       "    </tr>\n",
       "    <tr>\n",
       "      <th>14</th>\n",
       "      <td>Andhadhun</td>\n",
       "      <td>2018</td>\n",
       "    </tr>\n",
       "    <tr>\n",
       "      <th>15</th>\n",
       "      <td>Saaho</td>\n",
       "      <td>2019</td>\n",
       "    </tr>\n",
       "    <tr>\n",
       "      <th>16</th>\n",
       "      <td>Prem Ratan Dhan Payo</td>\n",
       "      <td>2015</td>\n",
       "    </tr>\n",
       "    <tr>\n",
       "      <th>17</th>\n",
       "      <td>Chennai Express</td>\n",
       "      <td>2013</td>\n",
       "    </tr>\n",
       "    <tr>\n",
       "      <th>18</th>\n",
       "      <td>Kick</td>\n",
       "      <td>2014</td>\n",
       "    </tr>\n",
       "    <tr>\n",
       "      <th>19</th>\n",
       "      <td>Simmba</td>\n",
       "      <td>2018</td>\n",
       "    </tr>\n",
       "    <tr>\n",
       "      <th>20</th>\n",
       "      <td>Happy New Year</td>\n",
       "      <td>2014</td>\n",
       "    </tr>\n",
       "    <tr>\n",
       "      <th>21</th>\n",
       "      <td>Krrish 3</td>\n",
       "      <td>2013</td>\n",
       "    </tr>\n",
       "    <tr>\n",
       "      <th>22</th>\n",
       "      <td>Dilwale</td>\n",
       "      <td>2015</td>\n",
       "    </tr>\n",
       "    <tr>\n",
       "      <th>23</th>\n",
       "      <td>Kabir Singh</td>\n",
       "      <td>2019</td>\n",
       "    </tr>\n",
       "    <tr>\n",
       "      <th>24</th>\n",
       "      <td>Tanhaji</td>\n",
       "      <td>2020</td>\n",
       "    </tr>\n",
       "  </tbody>\n",
       "</table>\n",
       "</div>"
      ],
      "text/plain": [
       "                           Film  Year\n",
       "0                        Dangal  2016\n",
       "1   Baahubali 2: The Conclusion  2017\n",
       "2             Bajrangi Bhaijaan  2015\n",
       "3              Secret Superstar  2017\n",
       "4                            PK  2014\n",
       "5                             2  2018\n",
       "6      Baahubali: The Beginning  2015\n",
       "7                        Sultan  2016\n",
       "8                         Sanju  2018\n",
       "9                     Padmaavat  2018\n",
       "10              Tiger Zinda Hai  2017\n",
       "11                      Dhoom 3  2013\n",
       "12                          War  2019\n",
       "13                     3 Idiots  2009\n",
       "14                    Andhadhun  2018\n",
       "15                        Saaho  2019\n",
       "16         Prem Ratan Dhan Payo  2015\n",
       "17              Chennai Express  2013\n",
       "18                         Kick  2014\n",
       "19                       Simmba  2018\n",
       "20               Happy New Year  2014\n",
       "21                     Krrish 3  2013\n",
       "22                      Dilwale  2015\n",
       "23                  Kabir Singh  2019\n",
       "24                      Tanhaji  2020"
      ]
     },
     "execution_count": 11,
     "metadata": {},
     "output_type": "execute_result"
    }
   ],
   "source": [
    "movies.loc[ :45845,['Film', 'Year']]"
   ]
  },
  {
   "cell_type": "code",
   "execution_count": 12,
   "metadata": {},
   "outputs": [
    {
     "data": {
      "text/html": [
       "<div>\n",
       "<style scoped>\n",
       "    .dataframe tbody tr th:only-of-type {\n",
       "        vertical-align: middle;\n",
       "    }\n",
       "\n",
       "    .dataframe tbody tr th {\n",
       "        vertical-align: top;\n",
       "    }\n",
       "\n",
       "    .dataframe thead th {\n",
       "        text-align: right;\n",
       "    }\n",
       "</style>\n",
       "<table border=\"1\" class=\"dataframe\">\n",
       "  <thead>\n",
       "    <tr style=\"text-align: right;\">\n",
       "      <th></th>\n",
       "      <th>Film</th>\n",
       "      <th>Producer</th>\n",
       "      <th>Year</th>\n",
       "    </tr>\n",
       "  </thead>\n",
       "  <tbody>\n",
       "    <tr>\n",
       "      <th>1</th>\n",
       "      <td>Baahubali 2: The Conclusion</td>\n",
       "      <td>Arka Media Works</td>\n",
       "      <td>2017</td>\n",
       "    </tr>\n",
       "    <tr>\n",
       "      <th>3</th>\n",
       "      <td>Secret Superstar</td>\n",
       "      <td>Aamir Khan Productions</td>\n",
       "      <td>2017</td>\n",
       "    </tr>\n",
       "    <tr>\n",
       "      <th>5</th>\n",
       "      <td>2</td>\n",
       "      <td>Lyca Productions</td>\n",
       "      <td>2018</td>\n",
       "    </tr>\n",
       "    <tr>\n",
       "      <th>8</th>\n",
       "      <td>Sanju</td>\n",
       "      <td>Rajkumar Hirani FilmsVinod Chopra Films</td>\n",
       "      <td>2018</td>\n",
       "    </tr>\n",
       "    <tr>\n",
       "      <th>9</th>\n",
       "      <td>Padmaavat</td>\n",
       "      <td>Bhansali Productions Viacom 18 Motion Pictures</td>\n",
       "      <td>2018</td>\n",
       "    </tr>\n",
       "    <tr>\n",
       "      <th>10</th>\n",
       "      <td>Tiger Zinda Hai</td>\n",
       "      <td>Yash Raj Films</td>\n",
       "      <td>2017</td>\n",
       "    </tr>\n",
       "    <tr>\n",
       "      <th>12</th>\n",
       "      <td>War</td>\n",
       "      <td>Yash Raj Films</td>\n",
       "      <td>2019</td>\n",
       "    </tr>\n",
       "    <tr>\n",
       "      <th>14</th>\n",
       "      <td>Andhadhun</td>\n",
       "      <td>Viacom 18 Motion Pictures Matchbox Pictures</td>\n",
       "      <td>2018</td>\n",
       "    </tr>\n",
       "    <tr>\n",
       "      <th>15</th>\n",
       "      <td>Saaho</td>\n",
       "      <td>UV Creations  T-Series</td>\n",
       "      <td>2019</td>\n",
       "    </tr>\n",
       "    <tr>\n",
       "      <th>19</th>\n",
       "      <td>Simmba</td>\n",
       "      <td>Reliance Entertainment  Dharma Productions</td>\n",
       "      <td>2018</td>\n",
       "    </tr>\n",
       "    <tr>\n",
       "      <th>23</th>\n",
       "      <td>Kabir Singh</td>\n",
       "      <td>Cine1 Studios  T-Series</td>\n",
       "      <td>2019</td>\n",
       "    </tr>\n",
       "    <tr>\n",
       "      <th>24</th>\n",
       "      <td>Tanhaji</td>\n",
       "      <td>Ajay Devgn FFilmsT-Series</td>\n",
       "      <td>2020</td>\n",
       "    </tr>\n",
       "  </tbody>\n",
       "</table>\n",
       "</div>"
      ],
      "text/plain": [
       "                           Film  \\\n",
       "1   Baahubali 2: The Conclusion   \n",
       "3              Secret Superstar   \n",
       "5                             2   \n",
       "8                         Sanju   \n",
       "9                     Padmaavat   \n",
       "10              Tiger Zinda Hai   \n",
       "12                          War   \n",
       "14                    Andhadhun   \n",
       "15                        Saaho   \n",
       "19                       Simmba   \n",
       "23                  Kabir Singh   \n",
       "24                      Tanhaji   \n",
       "\n",
       "                                          Producer  Year  \n",
       "1                                 Arka Media Works  2017  \n",
       "3                           Aamir Khan Productions  2017  \n",
       "5                                 Lyca Productions  2018  \n",
       "8          Rajkumar Hirani FilmsVinod Chopra Films  2018  \n",
       "9   Bhansali Productions Viacom 18 Motion Pictures  2018  \n",
       "10                                  Yash Raj Films  2017  \n",
       "12                                  Yash Raj Films  2019  \n",
       "14     Viacom 18 Motion Pictures Matchbox Pictures  2018  \n",
       "15                          UV Creations  T-Series  2019  \n",
       "19      Reliance Entertainment  Dharma Productions  2018  \n",
       "23                         Cine1 Studios  T-Series  2019  \n",
       "24                       Ajay Devgn FFilmsT-Series  2020  "
      ]
     },
     "execution_count": 12,
     "metadata": {},
     "output_type": "execute_result"
    }
   ],
   "source": [
    "movies.loc[movies['Year'] > 2016, ['Film', 'Producer', 'Year']]\n"
   ]
  },
  {
   "cell_type": "code",
   "execution_count": 13,
   "metadata": {},
   "outputs": [
    {
     "name": "stdout",
     "output_type": "stream",
     "text": [
      "   one  two\n",
      "0  1.0  2.0\n",
      "1  1.0  2.0\n",
      "2  0.0  0.0\n"
     ]
    },
    {
     "data": {
      "text/html": [
       "<div>\n",
       "<style scoped>\n",
       "    .dataframe tbody tr th:only-of-type {\n",
       "        vertical-align: middle;\n",
       "    }\n",
       "\n",
       "    .dataframe tbody tr th {\n",
       "        vertical-align: top;\n",
       "    }\n",
       "\n",
       "    .dataframe thead th {\n",
       "        text-align: right;\n",
       "    }\n",
       "</style>\n",
       "<table border=\"1\" class=\"dataframe\">\n",
       "  <thead>\n",
       "    <tr style=\"text-align: right;\">\n",
       "      <th></th>\n",
       "      <th>one</th>\n",
       "    </tr>\n",
       "  </thead>\n",
       "  <tbody>\n",
       "    <tr>\n",
       "      <th>0</th>\n",
       "      <td>1.0</td>\n",
       "    </tr>\n",
       "    <tr>\n",
       "      <th>1</th>\n",
       "      <td>1.0</td>\n",
       "    </tr>\n",
       "    <tr>\n",
       "      <th>2</th>\n",
       "      <td>0.0</td>\n",
       "    </tr>\n",
       "  </tbody>\n",
       "</table>\n",
       "</div>"
      ],
      "text/plain": [
       "   one\n",
       "0  1.0\n",
       "1  1.0\n",
       "2  0.0"
      ]
     },
     "execution_count": 13,
     "metadata": {},
     "output_type": "execute_result"
    }
   ],
   "source": [
    "df = pd.DataFrame([[1, 2], [1.0, 2.0], [0, 0]], columns=['one', 'two'])\n",
    "print(df)\n",
    "df[['one'] ]\n",
    "# df[['one', 'two']] "
   ]
  },
  {
   "cell_type": "code",
   "execution_count": 14,
   "metadata": {},
   "outputs": [
    {
     "name": "stdout",
     "output_type": "stream",
     "text": [
      "<bound method DataFrame.items of    one  two\n",
      "0  1.0  2.0\n",
      "1  1.0  2.0\n",
      "2  0.0  0.0>\n",
      "0    1.0\n",
      "1    1.0\n",
      "2    0.0\n",
      "Name: one, dtype: float64\n",
      "0    2.0\n",
      "1    2.0\n",
      "2    0.0\n",
      "Name: two, dtype: float64\n"
     ]
    }
   ],
   "source": [
    "print(df.items)\n",
    "for i in df.items():\n",
    "    print(i[1])\n"
   ]
  },
  {
   "cell_type": "code",
   "execution_count": 15,
   "metadata": {},
   "outputs": [
    {
     "data": {
      "text/html": [
       "<div>\n",
       "<style scoped>\n",
       "    .dataframe tbody tr th:only-of-type {\n",
       "        vertical-align: middle;\n",
       "    }\n",
       "\n",
       "    .dataframe tbody tr th {\n",
       "        vertical-align: top;\n",
       "    }\n",
       "\n",
       "    .dataframe thead th {\n",
       "        text-align: right;\n",
       "    }\n",
       "</style>\n",
       "<table border=\"1\" class=\"dataframe\">\n",
       "  <thead>\n",
       "    <tr style=\"text-align: right;\">\n",
       "      <th></th>\n",
       "      <th>one</th>\n",
       "      <th>two</th>\n",
       "    </tr>\n",
       "  </thead>\n",
       "  <tbody>\n",
       "    <tr>\n",
       "      <th>0</th>\n",
       "      <td>1.0</td>\n",
       "      <td>2.0</td>\n",
       "    </tr>\n",
       "    <tr>\n",
       "      <th>1</th>\n",
       "      <td>1.0</td>\n",
       "      <td>2.0</td>\n",
       "    </tr>\n",
       "    <tr>\n",
       "      <th>2</th>\n",
       "      <td>0.0</td>\n",
       "      <td>0.0</td>\n",
       "    </tr>\n",
       "  </tbody>\n",
       "</table>\n",
       "</div>"
      ],
      "text/plain": [
       "   one  two\n",
       "0  1.0  2.0\n",
       "1  1.0  2.0\n",
       "2  0.0  0.0"
      ]
     },
     "execution_count": 15,
     "metadata": {},
     "output_type": "execute_result"
    }
   ],
   "source": [
    "df.loc[ :]"
   ]
  },
  {
   "cell_type": "code",
   "execution_count": 16,
   "metadata": {},
   "outputs": [
    {
     "ename": "SyntaxError",
     "evalue": "(unicode error) 'unicodeescape' codec can't decode bytes in position 2-3: truncated \\UXXXXXXXX escape (1451021917.py, line 2)",
     "output_type": "error",
     "traceback": [
      "\u001b[1;36m  Cell \u001b[1;32mIn[16], line 2\u001b[1;36m\u001b[0m\n\u001b[1;33m    da=pd.read_csv(\"C:\\Users\\gupta\\OneDrive\\2.csv\")\u001b[0m\n\u001b[1;37m                   ^\u001b[0m\n\u001b[1;31mSyntaxError\u001b[0m\u001b[1;31m:\u001b[0m (unicode error) 'unicodeescape' codec can't decode bytes in position 2-3: truncated \\UXXXXXXXX escape\n"
     ]
    }
   ],
   "source": [
    "import pandas as pd\n",
    "da=pd.read_csv(\"C:\\Users\\gupta\\OneDrive\\2.csv\")\n",
    "df=pd.DataFrame(da)\n",
    "average=df['Math_Score'].mean()\n",
    "maxmium=df['Science_Score'].max()\n",
    "df['Total_Score'] = df['Math_Score'] + df['Science_Score']\n",
    "highest_total_score_row = df[df['Total_Score'] == df['Total_Score'].max()]\n",
    "highest_total_score_name = highest_total_score_row['Name'].values[0]\n",
    "\n",
    "print(f\"Student with the Highest Total Score: {highest_total_score_name}\")\n",
    "print(f'average marks of maths is {average}')\n",
    "print(f'highest score of science is {maxmium}')"
   ]
  },
  {
   "cell_type": "code",
   "execution_count": null,
   "metadata": {},
   "outputs": [
    {
     "name": "stdout",
     "output_type": "stream",
     "text": [
      "a) Number of unique cities: 4\n",
      "b) Average age: 29.5\n",
      "c) Number of males and females:\n",
      " Gender\n",
      "Female    2\n",
      "Male      2\n",
      "Name: count, dtype: int64\n",
      "d) Oldest person: Dana\n",
      "e) City with the highest number of individuals: New York\n"
     ]
    }
   ],
   "source": [
    "\n",
    "# Question1 Eployee Data \n",
    "import pandas as pd\n",
    "\n",
    "# Create a DataFrame from the given data\n",
    "data = {\n",
    "    'ID': [1, 2, 3, 4],\n",
    "    'Name': ['Alice', 'Bob', 'Charlie', 'Dana'],\n",
    "    'Age': [25, 30, 28, 35],\n",
    "    'Gender': ['Female', 'Male', 'Male', 'Female'],\n",
    "    'City': ['New York', 'London', 'Paris', 'Berlin']\n",
    "}\n",
    "\n",
    "df = pd.DataFrame(data)\n",
    "\n",
    "# a) Number of unique cities\n",
    "unique_cities = df['City'].nunique()\n",
    "\n",
    "# b) Average age\n",
    "average_age = df['Age'].mean()\n",
    "\n",
    "# c) Number of males and females\n",
    "gender_counts = df['Gender'].value_counts()\n",
    "\n",
    "# d) Oldest person\n",
    "oldest_person = df[df['Age'] == df['Age'].max()]['Name'].values[0]\n",
    "\n",
    "# e) City with the highest number of individuals\n",
    "city_counts = df['City'].value_counts()\n",
    "city_highest_individuals = city_counts.idxmax()\n",
    "\n",
    "print(\"a) Number of unique cities:\", unique_cities)\n",
    "print(\"b) Average age:\", average_age)\n",
    "print(\"c) Number of males and females:\\n\", gender_counts)\n",
    "print(\"d) Oldest person:\", oldest_person)\n",
    "print(\"e) City with the highest number of individuals:\", city_highest_individuals)"
   ]
  },
  {
   "cell_type": "code",
   "execution_count": null,
   "metadata": {},
   "outputs": [
    {
     "name": "stdout",
     "output_type": "stream",
     "text": [
      "Average Math Score: 82.5\n",
      "Highest Science Score: 95\n",
      "Total Scores:\n",
      "      Name  Total_Score\n",
      "0    Alice          175\n",
      "1      Bob          160\n",
      "2  Charlie          170\n",
      "3     Dana          175\n",
      "Student with the highest total score: Alice\n",
      "Difference between average math score and average science score: -5.0\n"
     ]
    }
   ],
   "source": [
    "# question 2 :- student scores\n",
    "import pandas as pd\n",
    "\n",
    "# Creating DataFrame\n",
    "data = {\n",
    "    'ID': [1, 2, 3, 4],\n",
    "    'Name': ['Alice', 'Bob', 'Charlie', 'Dana'],\n",
    "    'Math_Score': [85, 75, 90, 80],\n",
    "    'Science_Score': [90, 85, 80, 95]\n",
    "}\n",
    "\n",
    "df = pd.DataFrame(data)\n",
    "\n",
    "# a) Calculate the average math score\n",
    "average_math_score = df['Math_Score'].mean()\n",
    "print(\"Average Math Score:\", average_math_score)\n",
    "\n",
    "# b) Find the highest science score\n",
    "highest_science_score = df['Science_Score'].max()\n",
    "print(\"Highest Science Score:\", highest_science_score)\n",
    "\n",
    "# c) Calculate the total score for each student \n",
    "df['Total_Score'] = df['Math_Score'] + df['Science_Score']\n",
    "print(\"Total Scores:\")\n",
    "print(df[['Name', 'Total_Score']])  \n",
    "\n",
    "# d) Find the student with the highest total score\n",
    "highest_total_score_student = df.loc[df['Total_Score'].idxmax(), 'Name']\n",
    "print(\"Student with the highest total score:\", highest_total_score_student)\n",
    "\n",
    "# e) Calculate the difference between the average math score and the average science score\n",
    "average_science_score = df['Science_Score'].mean()\n",
    "difference = average_math_score - average_science_score\n",
    "print(\"Difference between average math score and average science score:\", difference)"
   ]
  },
  {
   "cell_type": "code",
   "execution_count": null,
   "metadata": {},
   "outputs": [],
   "source": []
  },
  {
   "cell_type": "code",
   "execution_count": null,
   "metadata": {},
   "outputs": [],
   "source": []
  },
  {
   "cell_type": "code",
   "execution_count": null,
   "metadata": {},
   "outputs": [],
   "source": []
  },
  {
   "cell_type": "code",
   "execution_count": null,
   "metadata": {},
   "outputs": [],
   "source": []
  },
  {
   "cell_type": "code",
   "execution_count": null,
   "metadata": {},
   "outputs": [],
   "source": []
  },
  {
   "cell_type": "code",
   "execution_count": null,
   "metadata": {},
   "outputs": [],
   "source": []
  },
  {
   "cell_type": "code",
   "execution_count": null,
   "metadata": {},
   "outputs": [],
   "source": []
  }
 ],
 "metadata": {
  "kernelspec": {
   "display_name": "Python 3",
   "language": "python",
   "name": "python3"
  },
  "language_info": {
   "codemirror_mode": {
    "name": "ipython",
    "version": 3
   },
   "file_extension": ".py",
   "mimetype": "text/x-python",
   "name": "python",
   "nbconvert_exporter": "python",
   "pygments_lexer": "ipython3",
   "version": "3.12.3"
  }
 },
 "nbformat": 4,
 "nbformat_minor": 2
}
