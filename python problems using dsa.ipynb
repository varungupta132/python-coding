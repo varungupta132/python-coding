{
 "cells": [
  {
   "cell_type": "code",
   "execution_count": 13,
   "metadata": {},
   "outputs": [
    {
     "name": "stdout",
     "output_type": "stream",
     "text": [
      "right value 0\n",
      "left value 0\n",
      "1\n",
      "a\n",
      "right value 1\n",
      "left value 0\n",
      "2\n",
      "ar\n",
      "right value 2\n",
      "left value 0\n",
      "3\n",
      "ara\n",
      "right value 3\n",
      "left value 0\n",
      "4\n",
      "araa\n",
      "i amm left in side thhe loop  2\n",
      "going to break\n",
      "right value 4\n",
      "left value 2\n",
      "4\n",
      "araa\n",
      "i amm left in side thhe loop  4\n",
      "going to break\n",
      "right value 5\n",
      "left value 4\n",
      "4\n",
      "araa\n",
      "Longest substring with 2 distinct characters: 'araa'\n",
      "4\n"
     ]
    }
   ],
   "source": [
    "s = \"araaci\"\n",
    "k = 2\n",
    "\n",
    "# Initialize variables\n",
    "left = 0\n",
    "max_len = 0\n",
    "max_substring = \"\"\n",
    "char_count = {}\n",
    "\n",
    "# Iterate over the string\n",
    "for right in range(len(s)):\n",
    "    # Update character count\n",
    "    if s[right] in char_count:\n",
    "        char_count[s[right]] += 1\n",
    "    else:\n",
    "        char_count[s[right]] = 1\n",
    "    \n",
    "    # Check if more than k distinct characters, then contract the window\n",
    "    if len(char_count) > k:\n",
    "        # Remove characters from the left until the number of distinct characters <= k\n",
    "        for l in range(left, right):\n",
    "            char_count[s[l]] -= 1\n",
    "            if char_count[s[l]] == 0:\n",
    "                del char_count[s[l]]\n",
    "                left = l + 1\n",
    "                print(\"i amm left in side thhe loop \" , left)\n",
    "            if len(char_count) <= k:\n",
    "                print(\"going to break\")\n",
    "                break\n",
    "\n",
    "    \n",
    "    # Update max length and substring if current window size is larger\n",
    "    if (right - left + 1) > max_len:\n",
    "        \n",
    "        \n",
    "        max_len = right - left + 1\n",
    "        max_substring = s[left:right+1]\n",
    "    print(\"right value\" , right)\n",
    "    print(\"left value\" ,left)\n",
    "    print(max_len)\n",
    "    print(max_substring)\n",
    "\n",
    "\n",
    "print(f\"Longest substring with {k} distinct characters: '{max_substring}'\")\n",
    "print(left)\n"
   ]
  },
  {
   "cell_type": "code",
   "execution_count": 10,
   "metadata": {},
   "outputs": [
    {
     "name": "stdout",
     "output_type": "stream",
     "text": [
      "1\n",
      "2\n",
      "4\n",
      "The result of a to the power of b is 32\n"
     ]
    }
   ],
   "source": [
    "\"\"\"\n",
    "the power function with min value of iteration \n",
    "\n",
    "\n",
    "\"\"\"\n",
    "\n",
    "\n",
    "def pow(x:int, y:int)->int:\n",
    "    # s = 1\n",
    "    # for i in range(y):\n",
    "    #     s *= x\n",
    "    # return s\n",
    "    # if y == 0: return 1\n",
    "    # elif x == 0: return 0\n",
    "    # else:\n",
    "    #     return x * pow(x, y - 1)\n",
    "        \n",
    "    # if y == 0:\n",
    "    #     return 1\n",
    "    # elif y % 2 == 0:\n",
    "    #     return pow(x, y // 2) * pow(x, y // 2)\n",
    "    # else:\n",
    "    #     return x * pow()\n",
    "\n",
    "    temp = 0\n",
    "    if y == 0:\n",
    "        return 1\n",
    "\n",
    "    temp = pow(x, y//2)\n",
    "    print(temp)\n",
    "    if y % 2 == 0:\n",
    "        return temp * temp\n",
    "\n",
    "\n",
    "    else:\n",
    "        return x * temp * temp \n",
    "b = 5\n",
    "\n",
    "a = 2\n",
    "res = pow(a, b)\n",
    "print(f\"The result of a to the power of b is {res}\")"
   ]
  },
  {
   "cell_type": "code",
   "execution_count": 13,
   "metadata": {},
   "outputs": [
    {
     "name": "stdout",
     "output_type": "stream",
     "text": [
      "<__main__.linked_list object at 0x000001ED35002C30>\n"
     ]
    }
   ],
   "source": [
    "\n",
    "# linked list implementation in Python\n",
    "\n",
    "class Node:\n",
    "    def __init__(self, data) -> None:\n",
    "        self.data = data  # assign data to data \n",
    "        self.next = None  # next is None\n",
    "\n",
    "\n",
    "class linked_list:\n",
    "    def __init__(self) -> None:\n",
    "        self.head = None\n",
    "\n",
    "\n",
    "out = Node(30)\n",
    "L = linked_list()\n",
    "L.head = out\n",
    "\n",
    "print(L)\n",
    "\n",
    "\n"
   ]
  },
  {
   "cell_type": "code",
   "execution_count": 9,
   "metadata": {},
   "outputs": [
    {
     "name": "stdout",
     "output_type": "stream",
     "text": [
      "[2, 0, 6, 12, 4, 45]\n",
      "[0, 2, 6, 4, 12, 45]\n",
      "[0, 2, 4, 6, 12, 45]\n",
      "Sorted data after Applying Quicksort\n",
      "[0, 2, 4, 6, 12, 45] and return None\n"
     ]
    }
   ],
   "source": [
    "\"\"\"\n",
    "Quicksort is a divide-and-conquer algorithm. \n",
    "It works by selecting a 'pivot' element \n",
    "from the array and partitioning the other elements into two sub-arrays\n",
    "\n",
    "\"\"\"\n",
    "\n",
    "def quick_sort(A:list, l:int, r:int)->None:\n",
    "    if r - l <= 1:  # Base case \n",
    "        return None\n",
    "\n",
    "    # A[l] the pivot element\n",
    "    yellow = l+1\n",
    "      \n",
    "    for green in range(l+1, r):\n",
    "        if A[green] <= A[l]:\n",
    "            A[yellow], A[green] = A[green], A[yellow]\n",
    "            yellow = yellow +1\n",
    "    print(A)\n",
    "    # move pivot into the place \n",
    "    A[l], A[yellow-1] = A[yellow-1], A[l]\n",
    "\n",
    "    quick_sort(A, l, yellow-1)\n",
    "    quick_sort(A, yellow, r)\n",
    "\n",
    "\n",
    "\n",
    "\n",
    "arr = [2, 4, 6, 12, 0, 45]\n",
    "res = quick_sort(arr, 0, len(arr))\n",
    "print(f\"Sorted data after Applying Quicksort\\n{arr} and return {res}\")"
   ]
  },
  {
   "cell_type": "code",
   "execution_count": 11,
   "metadata": {},
   "outputs": [
    {
     "name": "stdout",
     "output_type": "stream",
     "text": [
      "merge post [1, 2, 5, 5, 9, 10]\n",
      "merge post [0, 1, 1, 2, 2, 4, 5, 9]\n"
     ]
    },
    {
     "ename": "NameError",
     "evalue": "name 'raw_input' is not defined",
     "output_type": "error",
     "traceback": [
      "\u001b[1;31m---------------------------------------------------------------------------\u001b[0m",
      "\u001b[1;31mNameError\u001b[0m                                 Traceback (most recent call last)",
      "Cell \u001b[1;32mIn[11], line 49\u001b[0m\n\u001b[0;32m     46\u001b[0m \u001b[38;5;28mprint\u001b[39m(\u001b[38;5;124m\"\u001b[39m\u001b[38;5;124mmerge post\u001b[39m\u001b[38;5;124m\"\u001b[39m, out)  \u001b[38;5;66;03m# output list             merge post [0, 1, 2, 3, 4, 5, 6, 7, 8, 9]\u001b[39;00m\n\u001b[0;32m     47\u001b[0m \u001b[38;5;124m\"\u001b[39m\u001b[38;5;124m\"\u001b[39m\n\u001b[1;32m---> 49\u001b[0m num1, num2, num3 \u001b[38;5;241m=\u001b[39m \u001b[43mraw_input\u001b[49m()\u001b[38;5;241m.\u001b[39msplit()\n\u001b[0;32m     51\u001b[0m \u001b[38;5;28mprint\u001b[39m(\u001b[38;5;28mmin\u001b[39m(num1[\u001b[38;5;241m0\u001b[39m], num2[\u001b[38;5;241m0\u001b[39m], num3[\u001b[38;5;241m0\u001b[39m]) \u001b[38;5;241m+\u001b[39m \u001b[38;5;28mmax\u001b[39m(num1[\u001b[38;5;241m1\u001b[39m], num2[\u001b[38;5;241m1\u001b[39m], num3[\u001b[38;5;241m1\u001b[39m]) \u001b[38;5;241m+\u001b[39m \u001b[38;5;28mmin\u001b[39m(num1[\u001b[38;5;241m2\u001b[39m], num2[\u001b[38;5;241m2\u001b[39m], num3[\u001b[38;5;241m2\u001b[39m]) \u001b[38;5;241m+\u001b[39m  \u001b[38;5;28mmax\u001b[39m(num1[\u001b[38;5;241m3\u001b[39m], num2[\u001b[38;5;241m3\u001b[39m], num3[\u001b[38;5;241m3\u001b[39m]))\n\u001b[0;32m     52\u001b[0m \u001b[38;5;241m1522\u001b[39m\n",
      "\u001b[1;31mNameError\u001b[0m: name 'raw_input' is not defined"
     ]
    }
   ],
   "source": [
    "\n",
    "\"\"\"\n",
    "Merger sort \n",
    "\"\"\"\n",
    "\n",
    "def merge(A, B):\n",
    "    C, m, n = [], len(A), len(B)\n",
    "    i, j = 0, 0\n",
    "    while i + j < m + n:\n",
    "        if i == m:\n",
    "            C.append(B[j])\n",
    "            j += 1\n",
    "        elif j == n:\n",
    "            C.append(A[i])\n",
    "            i += 1\n",
    "        elif A[i] > B[j]:\n",
    "            C.append(B[j])\n",
    "            j += 1\n",
    "        elif A[i] <= B[j]:\n",
    "            C.append(A[i])\n",
    "            i += 1            \n",
    "\n",
    "    return C\n",
    "\n",
    "# list1 = list(range(1, 10, 2))  # list follow the odd number\n",
    "list1 = [2, 5, 9] \n",
    "# list2 = list(range(0, 10, 2))  # list follow the even number\n",
    "list2 = [1, 5, 10] \n",
    "out = merge(list1, list2)\n",
    "print(\"merge post\", out)  # output list    ####     merge post [1, 2, 5, 5, 9, 10]\n",
    "\"\"\"recursive merge short\"\"\"\n",
    "\n",
    "\n",
    "def merge_sort(A:list, left:int, right:int)->list:\n",
    "    if right - left <= 1:\n",
    "        return A[left:right]\n",
    "    if right - left > 1:\n",
    "        mid = (left + right) // 2\n",
    "        L = merge_sort(A, left, mid)\n",
    "        R = merge_sort(A, mid, right)\n",
    "        return merge(L, R)\n",
    "\n",
    "list1 = list(range(1, 10, 2))  # list follow the odd number \n",
    "list2 = list(range(0, 10, 2))  # list follow the even number\n",
    "lst = [2, 4, 5, 0, 2, 1, 9, 1] \n",
    "out = merge_sort(lst, 0, len(lst))\n",
    "print(\"merge post\", out)  # output list             merge post [0, 1, 2, 3, 4, 5, 6, 7, 8, 9]\n",
    "\"\"\n",
    "\n",
    "num1, num2, num3 = raw_input().split()\n",
    "\n",
    "print(min(num1[0], num2[0], num3[0]) + max(num1[1], num2[1], num3[1]) + min(num1[2], num2[2], num3[2]) +  max(num1[3], num2[3], num3[3]))\n",
    "#                                                                    1522\n",
    "num1, k = input().split()\n",
    "k = int(k)\n",
    "st = ''\n",
    "for i in range(1, len(num1)+1):\n",
    "    if i + k < len(num1):\n",
    "        st += str(num1[i+k])\n",
    "    else:\n",
    "        st += str(num1[(i + k) % k])\n",
    "print(st)             \n",
    "12432\n",
    "b1, h1 = map(eval, input().split())\n",
    "b2, h2 = map(eval, input().split())\n",
    "\n",
    "print(\"{0:.6f}\".format(max((b1*h2/2, (b2*h2)/2))))\n",
    "                                                                                           # 30.000000"
   ]
  },
  {
   "cell_type": "code",
   "execution_count": null,
   "metadata": {},
   "outputs": [],
   "source": [
    "\"\"\"\n",
    "Algorithm \n",
    "\n",
    "Step 1: cosider the positive Number value for the factors\n",
    "Step 2: initialize the counter = 1\n",
    "Step 3: Display the value of counter if Counter is divisor of Value\n",
    "Step 4: Increment in Value of counter and if count < Number goto the Step 3  \n",
    "\n",
    "\"\"\"\n",
    "\n",
    "\n",
    "\n",
    "def All_factors(num:int)->int:\n",
    "    \"\"\"All positive of positive Integer Quantity \"\"\"\n",
    "    count = 1\n",
    "    out = []\n",
    "    while count <= num:\n",
    "        if num % count == 0:\n",
    "            out.append(count)\n",
    "        count += 1\n",
    "    return out\n",
    "\n",
    "N = 15\n",
    "print(All_factors(N))"
   ]
  },
  {
   "cell_type": "code",
   "execution_count": 15,
   "metadata": {},
   "outputs": [
    {
     "name": "stdout",
     "output_type": "stream",
     "text": [
      "8\n"
     ]
    }
   ],
   "source": [
    "\n",
    "\"\"\"\n",
    "1. Suppose d devides both m and n, where m > n\n",
    "2. Then m = ad, n = bd\n",
    "3. So m - n = ad - bd => (a-b)d\n",
    "4. d divides m-n as well!\n",
    "5. so gcd(m, n) == gcd(n, m-n)\n",
    "\n",
    "final\n",
    "1. cosider gcd(m, n) with m > n\n",
    "2. if n divides m return n\n",
    "3. otherwise compute gcd(n, m-n) and return that value\n",
    "\n",
    "\n",
    "\n",
    "\"\"\"\n",
    "\n",
    "def gcd(m:int, n:int)->int:\n",
    "    \"consider m > n\"\n",
    "    if not m > n:\n",
    "        m, n = n, m\n",
    "        # return gcd(m, n)\n",
    "    if m % n == 0:\n",
    "        return n\n",
    "    else:\n",
    "        return gcd(m-n, n)    \n",
    "\n",
    "\n",
    "num1 = 16\n",
    "num2 = 8\n",
    "out = gcd(num1, num2)\n",
    "print(out)\n"
   ]
  },
  {
   "cell_type": "code",
   "execution_count": 10,
   "metadata": {},
   "outputs": [
    {
     "name": "stdout",
     "output_type": "stream",
     "text": [
      "i am mid  4\n",
      "i am mid  6\n",
      "i am mid  7\n",
      "7\n"
     ]
    }
   ],
   "source": [
    "# biary search algorithm\n",
    "def binary_search(arr, target):\n",
    "    left, right = 0, len(arr) - 1\n",
    "    \n",
    "    while left <= right:\n",
    "        mid = (left + right) // 2\n",
    "        print(\"i am mid \", mid)\n",
    "        if arr[mid] == target:\n",
    "            return mid\n",
    "        elif arr[mid] < target:\n",
    "            left = mid + 1\n",
    "        else:\n",
    "            right = mid - 1\n",
    "    \n",
    "    return -1  # Target not found\n",
    "\n",
    "# Example usage:\n",
    "arr = [1, 2, 3, 4, 5, 6, 7, 8, 9]\n",
    "target = 8\n",
    "print(binary_search(arr, target))  # Output: 4\n"
   ]
  },
  {
   "cell_type": "code",
   "execution_count": 8,
   "metadata": {},
   "outputs": [
    {
     "name": "stdout",
     "output_type": "stream",
     "text": [
      "4\n"
     ]
    }
   ],
   "source": [
    "print(8//2)"
   ]
  },
  {
   "cell_type": "code",
   "execution_count": 12,
   "metadata": {},
   "outputs": [
    {
     "name": "stdout",
     "output_type": "stream",
     "text": [
      "[11, 12, 22, 25, 34, 64, 90]\n"
     ]
    }
   ],
   "source": [
    "#  boble shot\n",
    "def bubble_sort(arr):\n",
    "    n = len(arr)\n",
    "    for i in range(n):\n",
    "        for j in range(0, n-i-1):\n",
    "            if arr[j] > arr[j+1]:\n",
    "                arr[j], arr[j+1] = arr[j+1], arr[j]\n",
    "    return arr\n",
    "\n",
    "# Example usage:\n",
    "arr = [64, 34, 25, 12, 22, 11, 90]\n",
    "print(bubble_sort(arr))  # Output: [11, 12, 22, 25, 34, 64, 90]\n"
   ]
  },
  {
   "cell_type": "code",
   "execution_count": 27,
   "metadata": {},
   "outputs": [
    {
     "name": "stdout",
     "output_type": "stream",
     "text": [
      "[11, 12, 22, 25, 34, 64, 90]\n"
     ]
    }
   ],
   "source": [
    "arr = [64, 34, 25, 12, 22, 11, 90]\n",
    "t=[]\n",
    "for i in range(len(arr)):\n",
    "    # print(i)\n",
    "    t.append(min(arr))\n",
    "    arr.remove(min(arr))\n",
    "\n",
    "print(t)"
   ]
  },
  {
   "cell_type": "code",
   "execution_count": 25,
   "metadata": {},
   "outputs": [
    {
     "name": "stdout",
     "output_type": "stream",
     "text": [
      "7\n"
     ]
    }
   ],
   "source": [
    "arr = [64, 34, 25, 12, 22, 11, 90]\n",
    "print(len(arr))"
   ]
  },
  {
   "cell_type": "code",
   "execution_count": null,
   "metadata": {},
   "outputs": [],
   "source": []
  },
  {
   "cell_type": "code",
   "execution_count": null,
   "metadata": {},
   "outputs": [],
   "source": []
  },
  {
   "cell_type": "code",
   "execution_count": null,
   "metadata": {},
   "outputs": [],
   "source": []
  },
  {
   "cell_type": "code",
   "execution_count": null,
   "metadata": {},
   "outputs": [],
   "source": []
  },
  {
   "cell_type": "code",
   "execution_count": null,
   "metadata": {},
   "outputs": [],
   "source": []
  },
  {
   "cell_type": "code",
   "execution_count": null,
   "metadata": {},
   "outputs": [],
   "source": []
  },
  {
   "cell_type": "code",
   "execution_count": null,
   "metadata": {},
   "outputs": [],
   "source": []
  },
  {
   "cell_type": "code",
   "execution_count": null,
   "metadata": {},
   "outputs": [],
   "source": []
  },
  {
   "cell_type": "code",
   "execution_count": null,
   "metadata": {},
   "outputs": [],
   "source": []
  }
 ],
 "metadata": {
  "kernelspec": {
   "display_name": "Python 3",
   "language": "python",
   "name": "python3"
  },
  "language_info": {
   "codemirror_mode": {
    "name": "ipython",
    "version": 3
   },
   "file_extension": ".py",
   "mimetype": "text/x-python",
   "name": "python",
   "nbconvert_exporter": "python",
   "pygments_lexer": "ipython3",
   "version": "3.12.3"
  }
 },
 "nbformat": 4,
 "nbformat_minor": 2
}
