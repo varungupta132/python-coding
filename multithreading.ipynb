{
 "cells": [
  {
   "cell_type": "code",
   "execution_count": 4,
   "metadata": {},
   "outputs": [
    {
     "name": "stdout",
     "output_type": "stream",
     "text": [
      "Squares: [1, 4, 9, 16, 25, 36, 49, 64, 81, 100]\n",
      "Time taken: 0.0 seconds\n"
     ]
    }
   ],
   "source": [
    "def calculate_squares(numbers):\n",
    "    squares = []\n",
    "    for num in numbers:\n",
    "        squares.append(num * num)\n",
    "    return squares\n",
    "\n",
    "numbers = [1, 2, 3, 4, 5, 6, 7, 8, 9, 10]\n",
    "\n",
    "start_time = time.time()\n",
    "result = calculate_squares(numbers)\n",
    "end_time = time.time()\n",
    "\n",
    "print(\"Squares:\", result)\n",
    "print(\"Time taken:\", end_time - start_time, \"seconds\")\n"
   ]
  },
  {
   "cell_type": "code",
   "execution_count": 3,
   "metadata": {},
   "outputs": [
    {
     "name": "stdout",
     "output_type": "stream",
     "text": [
      "Squares: [1, 4, 9, 16, 25, 36, 49, 64, 81, 100]\n",
      "Time taken: 0.0010001659393310547 seconds\n"
     ]
    }
   ],
   "source": [
    "import threading\n",
    "import time\n",
    "def calculate_squares(numbers, results, index):\n",
    "    for i, num in enumerate(numbers):\n",
    "        results[index + i] = num * num\n",
    "\n",
    "numbers = [1, 2, 3, 4, 5, 6, 7, 8, 9, 10]\n",
    "results = [None] * len(numbers)\n",
    "\n",
    "start_time = time.time()\n",
    "\n",
    "# Divide numbers into two sets\n",
    "mid = len(numbers) // 2\n",
    "numbers1 = numbers[:mid]\n",
    "numbers2 = numbers[mid:]\n",
    "\n",
    "# Create threads\n",
    "thread1 = threading.Thread(target=calculate_squares, args=(numbers1, results, 0))\n",
    "thread2 = threading.Thread(target=calculate_squares, args=(numbers2, results, mid))\n",
    "\n",
    "# Start threads\n",
    "thread1.start()\n",
    "thread2.start()\n",
    "\n",
    "# Wait for threads to finish\n",
    "thread1.join()\n",
    "thread2.join()\n",
    "\n",
    "end_time = time.time()\n",
    "\n",
    "print(\"Squares:\", results)\n",
    "print(\"Time taken:\", end_time - start_time, \"seconds\")\n"
   ]
  },
  {
   "cell_type": "code",
   "execution_count": 8,
   "metadata": {},
   "outputs": [
    {
     "name": "stdout",
     "output_type": "stream",
     "text": [
      "1\n",
      "2\n",
      "3\n",
      "4\n",
      "5\n",
      "6\n",
      "7\n",
      "8\n",
      "9\n",
      "10\n",
      "A\n",
      "B\n",
      "C\n",
      "D\n",
      "E\n",
      "F\n",
      "G\n",
      "H\n",
      "I\n",
      "J\n",
      "K\n",
      "1\n",
      "A\n"
     ]
    },
    {
     "name": "stdout",
     "output_type": "stream",
     "text": [
      "B\n",
      "C\n",
      "D\n",
      "E\n",
      "F\n",
      "G\n",
      "H\n",
      "I\n",
      "J\n",
      "2\n",
      "K\n",
      "3\n",
      "4\n",
      "5\n",
      "6\n",
      "7\n",
      "8\n",
      "9\n",
      "10\n"
     ]
    }
   ],
   "source": [
    "\n",
    "import threading\n",
    "import time\n",
    "def fun1():\n",
    "    for i in range(1, 11):\n",
    "        print(i)\n",
    "        time.sleep(1)\n",
    "\n",
    "def fun2():\n",
    "    for i in range(65, 76):\n",
    "        print(chr(i))\n",
    "        time.sleep(.1)\n",
    "fun1()\n",
    "fun2()\n",
    "\n",
    "t1 = threading.Thread(target=fun1)\n",
    "t2 = threading.Thread(target=fun2)\n",
    "t1.start()\n",
    "t2.start()"
   ]
  },
  {
   "cell_type": "code",
   "execution_count": 14,
   "metadata": {},
   "outputs": [
    {
     "name": "stdout",
     "output_type": "stream",
     "text": [
      "2\n"
     ]
    }
   ],
   "source": [
    "def generate_values():\n",
    "    for x in range(1, 7):\n",
    "        yield x * 2\n",
    "\n",
    "gen_expr = generate_values()\n",
    "\n",
    "try:\n",
    "    value = next(gen_expr)\n",
    "    print(value)\n",
    "except StopIteration:\n",
    "    print(\"Generator expression is exhausted\")"
   ]
  },
  {
   "cell_type": "code",
   "execution_count": 71,
   "metadata": {},
   "outputs": [
    {
     "name": "stdout",
     "output_type": "stream",
     "text": [
      "<generator object <genexpr> at 0x0000018DE92ED560>\n",
      "12.0\n"
     ]
    }
   ],
   "source": [
    "lst=[12,4,6,56]\n",
    "out =(float(i) for i in lst )\n",
    "print(out)\n",
    "data = next(out)\n",
    "print(data)"
   ]
  },
  {
   "cell_type": "code",
   "execution_count": 131,
   "metadata": {},
   "outputs": [],
   "source": [
    "lst = [12, 4, 6, 56]\n",
    "out = (eval(i) for i in range(1,60,1))"
   ]
  },
  {
   "cell_type": "code",
   "execution_count": 218,
   "metadata": {},
   "outputs": [
    {
     "name": "stdout",
     "output_type": "stream",
     "text": [
      "25\n"
     ]
    }
   ],
   "source": [
    "try:\n",
    "    data = next(out)\n",
    "except StopIteration:\n",
    "    out = (int(i) for i in range(1,60,1))\n",
    "    data = next(out)\n",
    "\n",
    "print(data)\n"
   ]
  },
  {
   "cell_type": "code",
   "execution_count": 48,
   "metadata": {},
   "outputs": [],
   "source": [
    "try:\n",
    "    data = next(out)\n",
    "except StopIteration:\n",
    "    out = (float(i) for i in lst)\n",
    "    data = next(out)\n"
   ]
  },
  {
   "cell_type": "code",
   "execution_count": 49,
   "metadata": {},
   "outputs": [
    {
     "name": "stdout",
     "output_type": "stream",
     "text": [
      "56.0\n",
      "56.0\n"
     ]
    }
   ],
   "source": [
    "print(data)\n",
    "print(data)\n"
   ]
  },
  {
   "cell_type": "code",
   "execution_count": null,
   "metadata": {},
   "outputs": [],
   "source": []
  },
  {
   "cell_type": "code",
   "execution_count": null,
   "metadata": {},
   "outputs": [],
   "source": []
  },
  {
   "cell_type": "code",
   "execution_count": null,
   "metadata": {},
   "outputs": [],
   "source": []
  },
  {
   "cell_type": "code",
   "execution_count": null,
   "metadata": {},
   "outputs": [],
   "source": []
  },
  {
   "cell_type": "code",
   "execution_count": null,
   "metadata": {},
   "outputs": [],
   "source": []
  },
  {
   "cell_type": "code",
   "execution_count": null,
   "metadata": {},
   "outputs": [],
   "source": []
  },
  {
   "cell_type": "code",
   "execution_count": null,
   "metadata": {},
   "outputs": [],
   "source": []
  },
  {
   "cell_type": "code",
   "execution_count": null,
   "metadata": {},
   "outputs": [],
   "source": []
  },
  {
   "cell_type": "code",
   "execution_count": null,
   "metadata": {},
   "outputs": [],
   "source": []
  },
  {
   "cell_type": "code",
   "execution_count": null,
   "metadata": {},
   "outputs": [],
   "source": []
  }
 ],
 "metadata": {
  "kernelspec": {
   "display_name": "Python 3",
   "language": "python",
   "name": "python3"
  },
  "language_info": {
   "codemirror_mode": {
    "name": "ipython",
    "version": 3
   },
   "file_extension": ".py",
   "mimetype": "text/x-python",
   "name": "python",
   "nbconvert_exporter": "python",
   "pygments_lexer": "ipython3",
   "version": "3.12.3"
  }
 },
 "nbformat": 4,
 "nbformat_minor": 2
}
