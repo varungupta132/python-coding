{
 "cells": [
  {
   "cell_type": "code",
   "execution_count": 4,
   "metadata": {},
   "outputs": [
    {
     "name": "stdout",
     "output_type": "stream",
     "text": [
      "Received: accepted\n",
      "Received: accepted\n",
      "Received: accepted\n",
      "Received: accepted\n",
      "Received: accepted\n",
      "Received: accepted\n",
      "Connection to server closed\n"
     ]
    }
   ],
   "source": [
    "import socket\n",
    "\n",
    "\n",
    "def run_client():\n",
    "    # create a socket object\n",
    "    client = socket.socket(socket.AF_INET, socket.SOCK_STREAM)\n",
    "\n",
    "    server_ip = \"127.0.0.1\"  # replace with the server's IP address\n",
    "    server_port = 9999  # replace with the server's port number\n",
    "    # establish connection with server\n",
    "    client.connect((server_ip, server_port))\n",
    "\n",
    "    while True:\n",
    "        # input message and send it to the server\n",
    "        msg = input(\"Enter message: \")\n",
    "        client.send(msg.encode(\"utf-8\")[:1024])\n",
    "\n",
    "        # receive message from the server\n",
    "        response = client.recv(1024)\n",
    "        response = response.decode(\"utf-8\")\n",
    "\n",
    "        # if server sent us \"closed\" in the payload, we break out of the loop and close our socket\n",
    "        if response.lower() == \"closed\":\n",
    "            break\n",
    "\n",
    "        print(f\"Received: {response}\")\n",
    "\n",
    "    # close client socket (connection to the server)\n",
    "    client.close()\n",
    "    print(\"Connection to server closed\")\n",
    "\n",
    "run_client()"
   ]
  },
  {
   "cell_type": "code",
   "execution_count": 7,
   "metadata": {},
   "outputs": [
    {
     "ename": "AttributeError",
     "evalue": "'_tkinter.tkapp' object has no attribute 'Button'",
     "output_type": "error",
     "traceback": [
      "\u001b[1;31m---------------------------------------------------------------------------\u001b[0m",
      "\u001b[1;31mAttributeError\u001b[0m                            Traceback (most recent call last)",
      "Cell \u001b[1;32mIn[7], line 4\u001b[0m\n\u001b[0;32m      2\u001b[0m root \u001b[38;5;241m=\u001b[39m tk\u001b[38;5;241m.\u001b[39mTk()\n\u001b[0;32m      3\u001b[0m root\u001b[38;5;241m.\u001b[39mtitle(\u001b[38;5;124m\"\u001b[39m\u001b[38;5;124mButton Test\u001b[39m\u001b[38;5;124m\"\u001b[39m)\n\u001b[1;32m----> 4\u001b[0m button \u001b[38;5;241m=\u001b[39m \u001b[43mroot\u001b[49m\u001b[38;5;241;43m.\u001b[39;49m\u001b[43mButton\u001b[49m(text\u001b[38;5;241m=\u001b[39m\u001b[38;5;124m\"\u001b[39m\u001b[38;5;124mClick me!\u001b[39m\u001b[38;5;124m\"\u001b[39m)\n\u001b[0;32m      5\u001b[0m button\u001b[38;5;241m.\u001b[39mpack()\n\u001b[0;32m      6\u001b[0m root\u001b[38;5;241m.\u001b[39mmainloop()\n",
      "File \u001b[1;32mC:\\Program Files\\WindowsApps\\PythonSoftwareFoundation.Python.3.12_3.12.752.0_x64__qbz5n2kfra8p0\\Lib\\tkinter\\__init__.py:2430\u001b[0m, in \u001b[0;36mTk.__getattr__\u001b[1;34m(self, attr)\u001b[0m\n\u001b[0;32m   2428\u001b[0m \u001b[38;5;28;01mdef\u001b[39;00m \u001b[38;5;21m__getattr__\u001b[39m(\u001b[38;5;28mself\u001b[39m, attr):\n\u001b[0;32m   2429\u001b[0m     \u001b[38;5;124m\"\u001b[39m\u001b[38;5;124mDelegate attribute access to the interpreter object\u001b[39m\u001b[38;5;124m\"\u001b[39m\n\u001b[1;32m-> 2430\u001b[0m     \u001b[38;5;28;01mreturn\u001b[39;00m \u001b[38;5;28;43mgetattr\u001b[39;49m\u001b[43m(\u001b[49m\u001b[38;5;28;43mself\u001b[39;49m\u001b[38;5;241;43m.\u001b[39;49m\u001b[43mtk\u001b[49m\u001b[43m,\u001b[49m\u001b[43m \u001b[49m\u001b[43mattr\u001b[49m\u001b[43m)\u001b[49m\n",
      "\u001b[1;31mAttributeError\u001b[0m: '_tkinter.tkapp' object has no attribute 'Button'"
     ]
    }
   ],
   "source": [
    " import tkinter as tk\n",
    " root = tk.Tk()\n",
    " root.title(\"Button Test\")\n",
    " button = tk.Button(text=\"Click me!\")\n",
    " button.pack()\n",
    " root.mainloop()"
   ]
  },
  {
   "cell_type": "code",
   "execution_count": 10,
   "metadata": {},
   "outputs": [
    {
     "name": "stdout",
     "output_type": "stream",
     "text": [
      "['a', 'n', 'r', 'u', 'v']\n"
     ]
    }
   ],
   "source": [
    "print(sorted([\"v\",\"a\",\"r\",\"u\",\"n\"]))"
   ]
  },
  {
   "cell_type": "code",
   "execution_count": null,
   "metadata": {},
   "outputs": [],
   "source": []
  },
  {
   "cell_type": "code",
   "execution_count": null,
   "metadata": {},
   "outputs": [],
   "source": []
  },
  {
   "cell_type": "code",
   "execution_count": null,
   "metadata": {},
   "outputs": [],
   "source": []
  },
  {
   "cell_type": "code",
   "execution_count": null,
   "metadata": {},
   "outputs": [],
   "source": []
  },
  {
   "cell_type": "code",
   "execution_count": null,
   "metadata": {},
   "outputs": [],
   "source": []
  },
  {
   "cell_type": "code",
   "execution_count": null,
   "metadata": {},
   "outputs": [],
   "source": []
  },
  {
   "cell_type": "code",
   "execution_count": null,
   "metadata": {},
   "outputs": [],
   "source": []
  },
  {
   "cell_type": "code",
   "execution_count": null,
   "metadata": {},
   "outputs": [],
   "source": []
  },
  {
   "cell_type": "code",
   "execution_count": null,
   "metadata": {},
   "outputs": [],
   "source": []
  },
  {
   "cell_type": "code",
   "execution_count": 2,
   "metadata": {},
   "outputs": [
    {
     "name": "stdout",
     "output_type": "stream",
     "text": [
      "Listening on 127.0.0.1:9998\n",
      "Accepted connection from 127.0.0.1:50908\n",
      "Received: HELLO\n",
      "Received: VARUN\n",
      "Received: GUPTA\n",
      "Connection to client closed\n"
     ]
    }
   ],
   "source": [
    "import socket\n",
    "\n",
    "\n",
    "def run_server():\n",
    "    # create a socket object\n",
    "    server = socket.socket(socket.AF_INET, socket.SOCK_STREAM)\n",
    "\n",
    "    server_ip = \"127.0.0.1\"\n",
    "    port = 9998\n",
    "\n",
    "    # bind the socket to a specific address and port\n",
    "    server.bind((server_ip, port))\n",
    "    # listen for incoming connections\n",
    "    server.listen(0)\n",
    "    print(f\"Listening on {server_ip}:{port}\")\n",
    "\n",
    "    # accept incoming connections\n",
    "    client_socket, client_address = server.accept()\n",
    "    print(f\"Accepted connection from {client_address[0]}:{client_address[1]}\")\n",
    "\n",
    "    # receive data from the client\n",
    "    while True:\n",
    "        request = client_socket.recv(1024)\n",
    "        request = request.decode(\"utf-8\") # convert bytes to string\n",
    "        \n",
    "        # if we receive \"close\" from the client, then we break\n",
    "        # out of the loop and close the conneciton\n",
    "        if request.lower() == \"close\":\n",
    "            # send response to the client which acknowledges that the\n",
    "            # connection should be closed and break out of the loop\n",
    "            client_socket.send(\"closed\".encode(\"utf-8\"))\n",
    "            break\n",
    "\n",
    "        print(f\"Received: {request}\")\n",
    "\n",
    "        response = \"accepted\".encode(\"utf-8\") # convert string to bytes\n",
    "        # convert and send accept response to the client\n",
    "        client_socket.send(response)\n",
    "\n",
    "    # close connection socket with the client\n",
    "    client_socket.close()\n",
    "    print(\"Connection to client closed\")\n",
    "    # close server socket\n",
    "    server.close()\n",
    "\n",
    "\n",
    "run_server()\n"
   ]
  }
 ],
 "metadata": {
  "kernelspec": {
   "display_name": "Python 3",
   "language": "python",
   "name": "python3"
  },
  "language_info": {
   "codemirror_mode": {
    "name": "ipython",
    "version": 3
   },
   "file_extension": ".py",
   "mimetype": "text/x-python",
   "name": "python",
   "nbconvert_exporter": "python",
   "pygments_lexer": "ipython3",
   "version": "3.12.3"
  }
 },
 "nbformat": 4,
 "nbformat_minor": 2
}
